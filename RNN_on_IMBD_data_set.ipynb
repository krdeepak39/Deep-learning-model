{
  "nbformat": 4,
  "nbformat_minor": 0,
  "metadata": {
    "colab": {
      "provenance": [],
      "authorship_tag": "ABX9TyMS3YB3C6PlXm8eG2o1JhWL",
      "include_colab_link": true
    },
    "kernelspec": {
      "name": "python3",
      "display_name": "Python 3"
    },
    "language_info": {
      "name": "python"
    }
  },
  "cells": [
    {
      "cell_type": "markdown",
      "metadata": {
        "id": "view-in-github",
        "colab_type": "text"
      },
      "source": [
        "<a href=\"https://colab.research.google.com/github/krdeepak39/Deep-learning-model/blob/main/RNN_on_IMBD_data_set.ipynb\" target=\"_parent\"><img src=\"https://colab.research.google.com/assets/colab-badge.svg\" alt=\"Open In Colab\"/></a>"
      ]
    },
    {
      "cell_type": "code",
      "execution_count": 1,
      "metadata": {
        "id": "HJu30zt53wEe"
      },
      "outputs": [],
      "source": [
        "import tensorflow as tf\n",
        "import numpy as np\n",
        "from tensorflow.keras.datasets import imdb\n",
        "from tensorflow.keras.models import Sequential\n",
        "from tensorflow.keras.layers import Dense\n",
        "from tensorflow.keras.layers import SimpleRNN\n",
        "from tensorflow.keras.layers import Embedding\n",
        "from tensorflow.keras.preprocessing import sequence"
      ]
    },
    {
      "cell_type": "code",
      "source": [
        "top_words = 5000\n",
        "(X_train, y_train), (X_test, y_test) = imdb.load_data(num_words=top_words)"
      ],
      "metadata": {
        "colab": {
          "base_uri": "https://localhost:8080/"
        },
        "id": "tMwKv8sD33Uo",
        "outputId": "58ef5106-fb03-40c3-af34-54d255b63f5d"
      },
      "execution_count": 2,
      "outputs": [
        {
          "output_type": "stream",
          "name": "stdout",
          "text": [
            "Downloading data from https://storage.googleapis.com/tensorflow/tf-keras-datasets/imdb.npz\n",
            "17464789/17464789 [==============================] - 0s 0us/step\n"
          ]
        }
      ]
    },
    {
      "cell_type": "code",
      "source": [
        "print(X_train.shape, y_train.shape, X_test.shape, y_test.shape)"
      ],
      "metadata": {
        "colab": {
          "base_uri": "https://localhost:8080/"
        },
        "id": "JtWrDif2352j",
        "outputId": "a6bf32f4-e9bd-4dcf-d6d7-834b24373674"
      },
      "execution_count": 3,
      "outputs": [
        {
          "output_type": "stream",
          "name": "stdout",
          "text": [
            "(25000,) (25000,) (25000,) (25000,)\n"
          ]
        }
      ]
    },
    {
      "cell_type": "code",
      "source": [
        "max_review_length = 500\n",
        "X_train = sequence.pad_sequences(X_train, maxlen = max_review_length)\n",
        "X_test = sequence.pad_sequences(X_test, maxlen = max_review_length)"
      ],
      "metadata": {
        "id": "obLlJ-Y237jF"
      },
      "execution_count": 4,
      "outputs": []
    },
    {
      "cell_type": "code",
      "source": [
        "X_train.shape"
      ],
      "metadata": {
        "colab": {
          "base_uri": "https://localhost:8080/"
        },
        "id": "-M9lZ9503-E9",
        "outputId": "20679124-88aa-4223-93a5-18927d5ae460"
      },
      "execution_count": 5,
      "outputs": [
        {
          "output_type": "execute_result",
          "data": {
            "text/plain": [
              "(25000, 500)"
            ]
          },
          "metadata": {},
          "execution_count": 5
        }
      ]
    },
    {
      "cell_type": "code",
      "source": [
        "embedding_vecor_length = 32\n",
        "model = Sequential()"
      ],
      "metadata": {
        "id": "OGpaHl8z3_w7"
      },
      "execution_count": 6,
      "outputs": []
    },
    {
      "cell_type": "code",
      "source": [
        "model.add(Embedding(top_words, embedding_vecor_length, input_length = max_review_length))\n",
        "model.add(SimpleRNN(100, dropout = 0.2, recurrent_dropout=0.2))\n",
        "model.add(Dense(1, activation = 'sigmoid'))\n",
        "model.compile(loss='binary_crossentropy', optimizer='adam', metrics=['accuracy'])\n",
        "print(model.summary())"
      ],
      "metadata": {
        "colab": {
          "base_uri": "https://localhost:8080/"
        },
        "id": "mP2DYTeC4Bje",
        "outputId": "16c346c0-43b1-4d44-8c43-119b4bebda00"
      },
      "execution_count": 7,
      "outputs": [
        {
          "output_type": "stream",
          "name": "stdout",
          "text": [
            "Model: \"sequential\"\n",
            "_________________________________________________________________\n",
            " Layer (type)                Output Shape              Param #   \n",
            "=================================================================\n",
            " embedding (Embedding)       (None, 500, 32)           160000    \n",
            "                                                                 \n",
            " simple_rnn (SimpleRNN)      (None, 100)               13300     \n",
            "                                                                 \n",
            " dense (Dense)               (None, 1)                 101       \n",
            "                                                                 \n",
            "=================================================================\n",
            "Total params: 173401 (677.35 KB)\n",
            "Trainable params: 173401 (677.35 KB)\n",
            "Non-trainable params: 0 (0.00 Byte)\n",
            "_________________________________________________________________\n",
            "None\n"
          ]
        }
      ]
    },
    {
      "cell_type": "code",
      "source": [
        "model.fit(X_train, y_train, epochs = 200, batch_size = 128)"
      ],
      "metadata": {
        "colab": {
          "base_uri": "https://localhost:8080/"
        },
        "id": "9i8wrnT34DTp",
        "outputId": "ba6acbe8-b072-4ec0-a470-2214b6ad1c29"
      },
      "execution_count": 9,
      "outputs": [
        {
          "output_type": "stream",
          "name": "stdout",
          "text": [
            "Epoch 1/200\n",
            "196/196 [==============================] - 84s 431ms/step - loss: 0.7004 - accuracy: 0.5047\n",
            "Epoch 2/200\n",
            "196/196 [==============================] - 85s 433ms/step - loss: 0.6959 - accuracy: 0.5108\n",
            "Epoch 3/200\n",
            "196/196 [==============================] - 84s 429ms/step - loss: 0.6947 - accuracy: 0.5121\n",
            "Epoch 4/200\n",
            "196/196 [==============================] - 84s 429ms/step - loss: 0.6939 - accuracy: 0.5160\n",
            "Epoch 5/200\n",
            "196/196 [==============================] - 84s 430ms/step - loss: 0.6929 - accuracy: 0.5140\n",
            "Epoch 6/200\n",
            "196/196 [==============================] - 85s 433ms/step - loss: 0.6932 - accuracy: 0.5169\n",
            "Epoch 7/200\n",
            "196/196 [==============================] - 84s 431ms/step - loss: 0.6916 - accuracy: 0.5217\n",
            "Epoch 8/200\n",
            "196/196 [==============================] - 84s 427ms/step - loss: 0.6913 - accuracy: 0.5198\n",
            "Epoch 9/200\n",
            "196/196 [==============================] - 85s 431ms/step - loss: 0.6913 - accuracy: 0.5212\n",
            "Epoch 10/200\n",
            "196/196 [==============================] - 84s 429ms/step - loss: 0.6906 - accuracy: 0.5234\n",
            "Epoch 11/200\n",
            "196/196 [==============================] - 84s 430ms/step - loss: 0.6890 - accuracy: 0.5304\n",
            "Epoch 12/200\n",
            "196/196 [==============================] - 85s 433ms/step - loss: 0.6873 - accuracy: 0.5328\n",
            "Epoch 13/200\n",
            "196/196 [==============================] - 84s 429ms/step - loss: 0.6894 - accuracy: 0.5280\n",
            "Epoch 14/200\n",
            "196/196 [==============================] - 84s 425ms/step - loss: 0.6895 - accuracy: 0.5266\n",
            "Epoch 15/200\n",
            "196/196 [==============================] - 85s 434ms/step - loss: 0.6880 - accuracy: 0.5304\n",
            "Epoch 16/200\n",
            "196/196 [==============================] - 89s 456ms/step - loss: 0.6884 - accuracy: 0.5320\n",
            "Epoch 17/200\n",
            "196/196 [==============================] - 88s 449ms/step - loss: 0.6874 - accuracy: 0.5322\n",
            "Epoch 18/200\n",
            "196/196 [==============================] - 90s 458ms/step - loss: 0.6865 - accuracy: 0.5360\n",
            "Epoch 19/200\n",
            "196/196 [==============================] - 89s 453ms/step - loss: 0.6852 - accuracy: 0.5398\n",
            "Epoch 20/200\n",
            "196/196 [==============================] - 85s 433ms/step - loss: 0.6815 - accuracy: 0.5514\n",
            "Epoch 21/200\n",
            "196/196 [==============================] - 85s 434ms/step - loss: 0.6782 - accuracy: 0.5556\n",
            "Epoch 22/200\n",
            "196/196 [==============================] - 84s 430ms/step - loss: 0.6705 - accuracy: 0.5762\n",
            "Epoch 23/200\n",
            "196/196 [==============================] - 83s 425ms/step - loss: 0.6589 - accuracy: 0.5941\n",
            "Epoch 24/200\n",
            "196/196 [==============================] - 85s 435ms/step - loss: 0.6414 - accuracy: 0.6160\n",
            "Epoch 25/200\n",
            "196/196 [==============================] - 84s 429ms/step - loss: 0.6232 - accuracy: 0.6409\n",
            "Epoch 26/200\n",
            "196/196 [==============================] - 84s 431ms/step - loss: 0.6072 - accuracy: 0.6586\n",
            "Epoch 27/200\n",
            "196/196 [==============================] - 85s 436ms/step - loss: 0.5967 - accuracy: 0.6657\n",
            "Epoch 28/200\n",
            "196/196 [==============================] - 84s 429ms/step - loss: 0.5825 - accuracy: 0.6817\n",
            "Epoch 29/200\n",
            "196/196 [==============================] - 84s 428ms/step - loss: 0.5697 - accuracy: 0.6927\n",
            "Epoch 30/200\n",
            "196/196 [==============================] - 85s 436ms/step - loss: 0.5553 - accuracy: 0.7065\n",
            "Epoch 31/200\n",
            "196/196 [==============================] - 85s 432ms/step - loss: 0.5335 - accuracy: 0.7317\n",
            "Epoch 32/200\n",
            "196/196 [==============================] - 84s 431ms/step - loss: 0.5130 - accuracy: 0.7526\n",
            "Epoch 33/200\n",
            "196/196 [==============================] - 85s 435ms/step - loss: 0.4974 - accuracy: 0.7664\n",
            "Epoch 34/200\n",
            "196/196 [==============================] - 84s 430ms/step - loss: 0.4817 - accuracy: 0.7809\n",
            "Epoch 35/200\n",
            "196/196 [==============================] - 84s 430ms/step - loss: 0.4779 - accuracy: 0.7830\n",
            "Epoch 36/200\n",
            "196/196 [==============================] - 85s 435ms/step - loss: 0.4750 - accuracy: 0.7869\n",
            "Epoch 37/200\n",
            "196/196 [==============================] - 84s 429ms/step - loss: 0.4589 - accuracy: 0.7983\n",
            "Epoch 38/200\n",
            "196/196 [==============================] - 84s 430ms/step - loss: 0.4449 - accuracy: 0.8070\n",
            "Epoch 39/200\n",
            "196/196 [==============================] - 85s 432ms/step - loss: 0.4866 - accuracy: 0.7772\n",
            "Epoch 40/200\n",
            "196/196 [==============================] - 84s 427ms/step - loss: 0.4646 - accuracy: 0.7940\n",
            "Epoch 41/200\n",
            "196/196 [==============================] - 84s 431ms/step - loss: 0.4536 - accuracy: 0.8029\n",
            "Epoch 42/200\n",
            "196/196 [==============================] - 85s 433ms/step - loss: 0.4395 - accuracy: 0.8118\n",
            "Epoch 43/200\n",
            "196/196 [==============================] - 84s 430ms/step - loss: 0.4332 - accuracy: 0.8178\n",
            "Epoch 44/200\n",
            "196/196 [==============================] - 84s 427ms/step - loss: 0.4248 - accuracy: 0.8184\n",
            "Epoch 45/200\n",
            "196/196 [==============================] - 84s 430ms/step - loss: 0.4497 - accuracy: 0.7989\n",
            "Epoch 46/200\n",
            "196/196 [==============================] - 85s 432ms/step - loss: 0.5135 - accuracy: 0.7624\n",
            "Epoch 47/200\n",
            "196/196 [==============================] - 84s 429ms/step - loss: 0.4495 - accuracy: 0.8117\n",
            "Epoch 48/200\n",
            "196/196 [==============================] - 85s 432ms/step - loss: 0.4908 - accuracy: 0.7773\n",
            "Epoch 49/200\n",
            "196/196 [==============================] - 84s 426ms/step - loss: 0.5069 - accuracy: 0.7663\n",
            "Epoch 50/200\n",
            "196/196 [==============================] - 83s 425ms/step - loss: 0.4700 - accuracy: 0.7894\n",
            "Epoch 51/200\n",
            "196/196 [==============================] - 85s 433ms/step - loss: 0.4473 - accuracy: 0.8026\n",
            "Epoch 52/200\n",
            "196/196 [==============================] - 84s 428ms/step - loss: 0.4424 - accuracy: 0.8058\n",
            "Epoch 53/200\n",
            "196/196 [==============================] - 84s 428ms/step - loss: 0.4502 - accuracy: 0.8004\n",
            "Epoch 54/200\n",
            "196/196 [==============================] - 84s 431ms/step - loss: 0.4357 - accuracy: 0.8107\n",
            "Epoch 55/200\n",
            "196/196 [==============================] - 83s 426ms/step - loss: 0.4222 - accuracy: 0.8176\n",
            "Epoch 56/200\n",
            "196/196 [==============================] - 83s 424ms/step - loss: 0.4151 - accuracy: 0.8210\n",
            "Epoch 57/200\n",
            "196/196 [==============================] - 85s 431ms/step - loss: 0.4253 - accuracy: 0.8141\n",
            "Epoch 58/200\n",
            "196/196 [==============================] - 89s 457ms/step - loss: 0.4284 - accuracy: 0.8188\n",
            "Epoch 59/200\n",
            "196/196 [==============================] - 87s 445ms/step - loss: 0.4148 - accuracy: 0.8235\n",
            "Epoch 60/200\n",
            "196/196 [==============================] - 89s 452ms/step - loss: 0.4272 - accuracy: 0.8150\n",
            "Epoch 61/200\n",
            "196/196 [==============================] - 88s 448ms/step - loss: 0.5696 - accuracy: 0.7022\n",
            "Epoch 62/200\n",
            "196/196 [==============================] - 88s 450ms/step - loss: 0.5658 - accuracy: 0.6948\n",
            "Epoch 63/200\n",
            "196/196 [==============================] - 85s 434ms/step - loss: 0.5390 - accuracy: 0.7218\n",
            "Epoch 64/200\n",
            "196/196 [==============================] - 83s 426ms/step - loss: 0.5208 - accuracy: 0.7388\n",
            "Epoch 65/200\n",
            "196/196 [==============================] - 83s 424ms/step - loss: 0.5001 - accuracy: 0.7586\n",
            "Epoch 66/200\n",
            "196/196 [==============================] - 84s 430ms/step - loss: 0.4751 - accuracy: 0.7801\n",
            "Epoch 67/200\n",
            "196/196 [==============================] - 84s 427ms/step - loss: 0.4563 - accuracy: 0.7984\n",
            "Epoch 68/200\n",
            "196/196 [==============================] - 84s 426ms/step - loss: 0.4411 - accuracy: 0.8082\n",
            "Epoch 69/200\n",
            "196/196 [==============================] - 84s 431ms/step - loss: 0.4322 - accuracy: 0.8168\n",
            "Epoch 70/200\n",
            "196/196 [==============================] - 84s 426ms/step - loss: 0.4291 - accuracy: 0.8160\n",
            "Epoch 71/200\n",
            "196/196 [==============================] - 84s 426ms/step - loss: 0.4198 - accuracy: 0.8234\n",
            "Epoch 72/200\n",
            "196/196 [==============================] - 84s 430ms/step - loss: 0.4581 - accuracy: 0.7970\n",
            "Epoch 73/200\n",
            "196/196 [==============================] - 83s 424ms/step - loss: 0.4575 - accuracy: 0.7980\n",
            "Epoch 74/200\n",
            "196/196 [==============================] - 83s 424ms/step - loss: 0.4468 - accuracy: 0.8050\n",
            "Epoch 75/200\n",
            "196/196 [==============================] - 84s 430ms/step - loss: 0.4537 - accuracy: 0.7997\n",
            "Epoch 76/200\n",
            "196/196 [==============================] - 84s 429ms/step - loss: 0.4543 - accuracy: 0.7990\n",
            "Epoch 77/200\n",
            "196/196 [==============================] - 84s 427ms/step - loss: 0.4633 - accuracy: 0.7908\n",
            "Epoch 78/200\n",
            "196/196 [==============================] - 85s 432ms/step - loss: 0.4727 - accuracy: 0.7857\n",
            "Epoch 79/200\n",
            "196/196 [==============================] - 84s 429ms/step - loss: 0.4746 - accuracy: 0.7838\n",
            "Epoch 80/200\n",
            "196/196 [==============================] - 84s 428ms/step - loss: 0.4748 - accuracy: 0.7832\n",
            "Epoch 81/200\n",
            "196/196 [==============================] - 84s 428ms/step - loss: 0.4748 - accuracy: 0.7851\n",
            "Epoch 82/200\n",
            "196/196 [==============================] - 84s 431ms/step - loss: 0.4914 - accuracy: 0.7765\n",
            "Epoch 83/200\n",
            "196/196 [==============================] - 83s 425ms/step - loss: 0.4890 - accuracy: 0.7768\n",
            "Epoch 84/200\n",
            "196/196 [==============================] - 83s 425ms/step - loss: 0.4834 - accuracy: 0.7810\n",
            "Epoch 85/200\n",
            "196/196 [==============================] - 85s 432ms/step - loss: 0.4812 - accuracy: 0.7801\n",
            "Epoch 86/200\n",
            "196/196 [==============================] - 84s 427ms/step - loss: 0.4754 - accuracy: 0.7844\n",
            "Epoch 87/200\n",
            "196/196 [==============================] - 84s 428ms/step - loss: 0.4810 - accuracy: 0.7816\n",
            "Epoch 88/200\n",
            "196/196 [==============================] - 85s 432ms/step - loss: 0.4795 - accuracy: 0.7826\n",
            "Epoch 89/200\n",
            "196/196 [==============================] - 84s 428ms/step - loss: 0.4770 - accuracy: 0.7823\n",
            "Epoch 90/200\n",
            "196/196 [==============================] - 84s 429ms/step - loss: 0.4708 - accuracy: 0.7872\n",
            "Epoch 91/200\n",
            "196/196 [==============================] - 85s 435ms/step - loss: 0.4690 - accuracy: 0.7909\n",
            "Epoch 92/200\n",
            "196/196 [==============================] - 85s 431ms/step - loss: 0.4703 - accuracy: 0.7870\n",
            "Epoch 93/200\n",
            "196/196 [==============================] - 85s 432ms/step - loss: 0.4662 - accuracy: 0.7924\n",
            "Epoch 94/200\n",
            "196/196 [==============================] - 85s 436ms/step - loss: 0.4685 - accuracy: 0.7901\n",
            "Epoch 95/200\n",
            "196/196 [==============================] - 84s 428ms/step - loss: 0.4660 - accuracy: 0.7908\n",
            "Epoch 96/200\n",
            "196/196 [==============================] - 84s 429ms/step - loss: 0.4632 - accuracy: 0.7915\n",
            "Epoch 97/200\n",
            "196/196 [==============================] - 84s 428ms/step - loss: 0.4653 - accuracy: 0.7934\n",
            "Epoch 98/200\n",
            "196/196 [==============================] - 85s 433ms/step - loss: 0.4652 - accuracy: 0.7905\n",
            "Epoch 99/200\n",
            "196/196 [==============================] - 84s 427ms/step - loss: 0.4661 - accuracy: 0.7893\n",
            "Epoch 100/200\n",
            "196/196 [==============================] - 84s 428ms/step - loss: 0.4658 - accuracy: 0.7896\n",
            "Epoch 101/200\n",
            "196/196 [==============================] - 84s 430ms/step - loss: 0.4655 - accuracy: 0.7901\n",
            "Epoch 102/200\n",
            "196/196 [==============================] - 84s 428ms/step - loss: 0.4671 - accuracy: 0.7867\n",
            "Epoch 103/200\n",
            "196/196 [==============================] - 84s 428ms/step - loss: 0.4687 - accuracy: 0.7885\n",
            "Epoch 104/200\n",
            "196/196 [==============================] - 84s 431ms/step - loss: 0.4685 - accuracy: 0.7878\n",
            "Epoch 105/200\n",
            "196/196 [==============================] - 84s 429ms/step - loss: 0.4681 - accuracy: 0.7889\n",
            "Epoch 106/200\n",
            "196/196 [==============================] - 83s 426ms/step - loss: 0.4675 - accuracy: 0.7869\n",
            "Epoch 107/200\n",
            "196/196 [==============================] - 85s 433ms/step - loss: 0.4693 - accuracy: 0.7901\n",
            "Epoch 108/200\n",
            "196/196 [==============================] - 84s 426ms/step - loss: 0.4667 - accuracy: 0.7922\n",
            "Epoch 109/200\n",
            "196/196 [==============================] - 84s 427ms/step - loss: 0.4646 - accuracy: 0.7927\n",
            "Epoch 110/200\n",
            "196/196 [==============================] - 84s 428ms/step - loss: 0.4666 - accuracy: 0.7923\n",
            "Epoch 111/200\n",
            "196/196 [==============================] - 85s 432ms/step - loss: 0.4640 - accuracy: 0.7932\n",
            "Epoch 112/200\n",
            "196/196 [==============================] - 84s 427ms/step - loss: 0.4652 - accuracy: 0.7942\n",
            "Epoch 113/200\n",
            "196/196 [==============================] - 84s 427ms/step - loss: 0.4640 - accuracy: 0.7944\n",
            "Epoch 114/200\n",
            "196/196 [==============================] - 85s 432ms/step - loss: 0.4609 - accuracy: 0.7958\n",
            "Epoch 115/200\n",
            "196/196 [==============================] - 84s 428ms/step - loss: 0.4631 - accuracy: 0.7956\n",
            "Epoch 116/200\n",
            "196/196 [==============================] - 83s 423ms/step - loss: 0.4639 - accuracy: 0.7934\n",
            "Epoch 117/200\n",
            "196/196 [==============================] - 84s 429ms/step - loss: 0.4617 - accuracy: 0.7941\n",
            "Epoch 118/200\n",
            "196/196 [==============================] - 84s 426ms/step - loss: 0.4612 - accuracy: 0.7947\n",
            "Epoch 119/200\n",
            "196/196 [==============================] - 84s 427ms/step - loss: 0.4587 - accuracy: 0.7971\n",
            "Epoch 120/200\n",
            "196/196 [==============================] - 83s 426ms/step - loss: 0.4593 - accuracy: 0.7958\n",
            "Epoch 121/200\n",
            "196/196 [==============================] - 84s 431ms/step - loss: 0.4612 - accuracy: 0.7952\n",
            "Epoch 122/200\n",
            "196/196 [==============================] - 84s 427ms/step - loss: 0.4644 - accuracy: 0.7928\n",
            "Epoch 123/200\n",
            "196/196 [==============================] - 84s 427ms/step - loss: 0.4633 - accuracy: 0.7931\n",
            "Epoch 124/200\n",
            "196/196 [==============================] - 84s 430ms/step - loss: 0.4660 - accuracy: 0.7882\n",
            "Epoch 125/200\n",
            "196/196 [==============================] - 83s 423ms/step - loss: 0.4625 - accuracy: 0.7932\n",
            "Epoch 126/200\n",
            "196/196 [==============================] - 83s 425ms/step - loss: 0.4674 - accuracy: 0.7894\n",
            "Epoch 127/200\n",
            "196/196 [==============================] - 84s 431ms/step - loss: 0.4593 - accuracy: 0.7953\n",
            "Epoch 128/200\n",
            "196/196 [==============================] - 84s 427ms/step - loss: 0.4649 - accuracy: 0.7890\n",
            "Epoch 129/200\n",
            "196/196 [==============================] - 84s 427ms/step - loss: 0.4653 - accuracy: 0.7876\n",
            "Epoch 130/200\n",
            "196/196 [==============================] - 84s 431ms/step - loss: 0.4668 - accuracy: 0.7883\n",
            "Epoch 131/200\n",
            "196/196 [==============================] - 84s 427ms/step - loss: 0.4633 - accuracy: 0.7894\n",
            "Epoch 132/200\n",
            "196/196 [==============================] - 83s 426ms/step - loss: 0.4648 - accuracy: 0.7885\n",
            "Epoch 133/200\n",
            "196/196 [==============================] - 83s 424ms/step - loss: 0.4604 - accuracy: 0.7928\n",
            "Epoch 134/200\n",
            "196/196 [==============================] - 84s 428ms/step - loss: 0.4642 - accuracy: 0.7924\n",
            "Epoch 135/200\n",
            "196/196 [==============================] - 84s 428ms/step - loss: 0.4628 - accuracy: 0.7932\n",
            "Epoch 136/200\n",
            "196/196 [==============================] - 84s 428ms/step - loss: 0.4619 - accuracy: 0.7942\n",
            "Epoch 137/200\n",
            "196/196 [==============================] - 85s 432ms/step - loss: 0.4663 - accuracy: 0.7834\n",
            "Epoch 138/200\n",
            "196/196 [==============================] - 84s 428ms/step - loss: 0.4633 - accuracy: 0.7929\n",
            "Epoch 139/200\n",
            "196/196 [==============================] - 84s 427ms/step - loss: 0.4661 - accuracy: 0.7881\n",
            "Epoch 140/200\n",
            "196/196 [==============================] - 84s 430ms/step - loss: 0.4643 - accuracy: 0.7886\n",
            "Epoch 141/200\n",
            "196/196 [==============================] - 83s 426ms/step - loss: 0.4683 - accuracy: 0.7867\n",
            "Epoch 142/200\n",
            "196/196 [==============================] - 84s 427ms/step - loss: 0.4660 - accuracy: 0.7897\n",
            "Epoch 143/200\n",
            "196/196 [==============================] - 85s 432ms/step - loss: 0.4984 - accuracy: 0.7623\n",
            "Epoch 144/200\n",
            "196/196 [==============================] - 83s 424ms/step - loss: 0.4883 - accuracy: 0.7675\n",
            "Epoch 145/200\n",
            "196/196 [==============================] - 84s 426ms/step - loss: 0.4878 - accuracy: 0.7697\n",
            "Epoch 146/200\n",
            "196/196 [==============================] - 84s 427ms/step - loss: 0.4853 - accuracy: 0.7708\n",
            "Epoch 147/200\n",
            "196/196 [==============================] - 85s 432ms/step - loss: 0.4840 - accuracy: 0.7706\n",
            "Epoch 148/200\n",
            "196/196 [==============================] - 84s 430ms/step - loss: 0.4821 - accuracy: 0.7730\n",
            "Epoch 149/200\n",
            "196/196 [==============================] - 83s 426ms/step - loss: 0.4794 - accuracy: 0.7763\n",
            "Epoch 150/200\n",
            "196/196 [==============================] - 84s 430ms/step - loss: 0.4709 - accuracy: 0.7831\n",
            "Epoch 151/200\n",
            "196/196 [==============================] - 84s 427ms/step - loss: 0.4716 - accuracy: 0.7821\n",
            "Epoch 152/200\n",
            "196/196 [==============================] - 84s 427ms/step - loss: 0.4714 - accuracy: 0.7855\n",
            "Epoch 153/200\n",
            "196/196 [==============================] - 84s 430ms/step - loss: 0.4707 - accuracy: 0.7840\n",
            "Epoch 154/200\n",
            "196/196 [==============================] - 84s 428ms/step - loss: 0.4734 - accuracy: 0.7799\n",
            "Epoch 155/200\n",
            "196/196 [==============================] - 83s 425ms/step - loss: 0.4951 - accuracy: 0.7592\n",
            "Epoch 156/200\n",
            "196/196 [==============================] - 85s 431ms/step - loss: 0.4967 - accuracy: 0.7567\n",
            "Epoch 157/200\n",
            "196/196 [==============================] - 84s 427ms/step - loss: 0.4939 - accuracy: 0.7614\n",
            "Epoch 158/200\n",
            "196/196 [==============================] - 84s 428ms/step - loss: 0.4901 - accuracy: 0.7641\n",
            "Epoch 159/200\n",
            "196/196 [==============================] - 84s 431ms/step - loss: 0.4859 - accuracy: 0.7675\n",
            "Epoch 160/200\n",
            "196/196 [==============================] - 84s 427ms/step - loss: 0.4840 - accuracy: 0.7699\n",
            "Epoch 161/200\n",
            "196/196 [==============================] - 84s 428ms/step - loss: 0.4767 - accuracy: 0.7751\n",
            "Epoch 162/200\n",
            "196/196 [==============================] - 85s 432ms/step - loss: 0.4753 - accuracy: 0.7750\n",
            "Epoch 163/200\n",
            "196/196 [==============================] - 84s 427ms/step - loss: 0.4712 - accuracy: 0.7817\n",
            "Epoch 164/200\n",
            "196/196 [==============================] - 84s 428ms/step - loss: 0.4668 - accuracy: 0.7857\n",
            "Epoch 165/200\n",
            "196/196 [==============================] - 84s 429ms/step - loss: 0.4670 - accuracy: 0.7886\n",
            "Epoch 166/200\n",
            "196/196 [==============================] - 83s 425ms/step - loss: 0.4605 - accuracy: 0.8015\n",
            "Epoch 167/200\n",
            "196/196 [==============================] - 84s 428ms/step - loss: 0.4554 - accuracy: 0.8026\n",
            "Epoch 168/200\n",
            "196/196 [==============================] - 84s 428ms/step - loss: 0.4595 - accuracy: 0.8020\n",
            "Epoch 169/200\n",
            "196/196 [==============================] - 84s 430ms/step - loss: 0.4502 - accuracy: 0.8082\n",
            "Epoch 170/200\n",
            "196/196 [==============================] - 84s 429ms/step - loss: 0.4496 - accuracy: 0.8071\n",
            "Epoch 171/200\n",
            "196/196 [==============================] - 84s 428ms/step - loss: 0.4462 - accuracy: 0.8088\n",
            "Epoch 172/200\n",
            "196/196 [==============================] - 85s 432ms/step - loss: 0.4481 - accuracy: 0.8071\n",
            "Epoch 173/200\n",
            "196/196 [==============================] - 84s 428ms/step - loss: 0.4442 - accuracy: 0.8105\n",
            "Epoch 174/200\n",
            "196/196 [==============================] - 84s 427ms/step - loss: 0.4463 - accuracy: 0.8089\n",
            "Epoch 175/200\n",
            "196/196 [==============================] - 85s 432ms/step - loss: 0.4552 - accuracy: 0.7978\n",
            "Epoch 176/200\n",
            "196/196 [==============================] - 84s 428ms/step - loss: 0.4474 - accuracy: 0.8047\n",
            "Epoch 177/200\n",
            "196/196 [==============================] - 84s 430ms/step - loss: 0.4500 - accuracy: 0.8022\n",
            "Epoch 178/200\n",
            "196/196 [==============================] - 85s 434ms/step - loss: 0.4593 - accuracy: 0.7936\n",
            "Epoch 179/200\n",
            "196/196 [==============================] - 84s 429ms/step - loss: 0.4610 - accuracy: 0.7948\n",
            "Epoch 180/200\n",
            "196/196 [==============================] - 85s 431ms/step - loss: 0.4555 - accuracy: 0.7984\n",
            "Epoch 181/200\n",
            "196/196 [==============================] - 86s 436ms/step - loss: 0.4736 - accuracy: 0.7816\n",
            "Epoch 182/200\n",
            "196/196 [==============================] - 84s 429ms/step - loss: 0.4753 - accuracy: 0.7791\n",
            "Epoch 183/200\n",
            "196/196 [==============================] - 85s 432ms/step - loss: 0.4672 - accuracy: 0.7845\n",
            "Epoch 184/200\n",
            "196/196 [==============================] - 85s 435ms/step - loss: 0.4726 - accuracy: 0.7839\n",
            "Epoch 185/200\n",
            "196/196 [==============================] - 85s 434ms/step - loss: 0.4859 - accuracy: 0.7757\n",
            "Epoch 186/200\n",
            "196/196 [==============================] - 85s 434ms/step - loss: 0.4908 - accuracy: 0.7735\n",
            "Epoch 187/200\n",
            "196/196 [==============================] - 86s 438ms/step - loss: 0.4881 - accuracy: 0.7761\n",
            "Epoch 188/200\n",
            "196/196 [==============================] - 84s 429ms/step - loss: 0.4877 - accuracy: 0.7744\n",
            "Epoch 189/200\n",
            "196/196 [==============================] - 84s 428ms/step - loss: 0.4835 - accuracy: 0.7762\n",
            "Epoch 190/200\n",
            "196/196 [==============================] - 85s 436ms/step - loss: 0.4792 - accuracy: 0.7785\n",
            "Epoch 191/200\n",
            "196/196 [==============================] - 84s 430ms/step - loss: 0.4852 - accuracy: 0.7746\n",
            "Epoch 192/200\n",
            "196/196 [==============================] - 84s 430ms/step - loss: 0.4862 - accuracy: 0.7714\n",
            "Epoch 193/200\n",
            "196/196 [==============================] - 85s 435ms/step - loss: 0.4821 - accuracy: 0.7765\n",
            "Epoch 194/200\n",
            "196/196 [==============================] - 84s 428ms/step - loss: 0.5272 - accuracy: 0.7342\n",
            "Epoch 195/200\n",
            "196/196 [==============================] - 84s 429ms/step - loss: 0.5287 - accuracy: 0.7328\n",
            "Epoch 196/200\n",
            "196/196 [==============================] - 85s 433ms/step - loss: 0.5225 - accuracy: 0.7373\n",
            "Epoch 197/200\n",
            "196/196 [==============================] - 84s 430ms/step - loss: 0.5211 - accuracy: 0.7379\n",
            "Epoch 198/200\n",
            "196/196 [==============================] - 85s 433ms/step - loss: 0.5179 - accuracy: 0.7406\n",
            "Epoch 199/200\n",
            "196/196 [==============================] - 84s 430ms/step - loss: 0.5156 - accuracy: 0.7417\n",
            "Epoch 200/200\n",
            "196/196 [==============================] - 84s 429ms/step - loss: 0.5134 - accuracy: 0.7454\n"
          ]
        },
        {
          "output_type": "execute_result",
          "data": {
            "text/plain": [
              "<keras.src.callbacks.History at 0x78941014fa60>"
            ]
          },
          "metadata": {},
          "execution_count": 9
        }
      ]
    },
    {
      "cell_type": "code",
      "source": [
        "scores = model.evaluate(X_test, y_test ,verbose=0)\n",
        "print(\"Accuracy: \", (scores[1]*100))"
      ],
      "metadata": {
        "colab": {
          "base_uri": "https://localhost:8080/"
        },
        "id": "0PsTJI0k4ILI",
        "outputId": "46a67874-40f1-41f3-dc4f-ed0684ebd601"
      },
      "execution_count": 10,
      "outputs": [
        {
          "output_type": "stream",
          "name": "stdout",
          "text": [
            "Accuracy:  69.06800270080566\n"
          ]
        }
      ]
    },
    {
      "cell_type": "code",
      "source": [],
      "metadata": {
        "id": "BBRMYhGT4rqC"
      },
      "execution_count": null,
      "outputs": []
    }
  ]
}