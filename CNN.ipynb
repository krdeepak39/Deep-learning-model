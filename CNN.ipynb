{
  "nbformat": 4,
  "nbformat_minor": 0,
  "metadata": {
    "colab": {
      "provenance": []
    },
    "kernelspec": {
      "name": "python3",
      "display_name": "Python 3"
    },
    "language_info": {
      "name": "python"
    }
  },
  "cells": [
    {
      "cell_type": "code",
      "execution_count": null,
      "metadata": {
        "id": "_uRPMvoTl8pX"
      },
      "outputs": [],
      "source": [
        "import tensorflow as tf\n",
        "import keras\n",
        "import numpy as np\n",
        "import matplotlib.pyplot as plt"
      ]
    },
    {
      "cell_type": "code",
      "source": [
        "num_class= 10"
      ],
      "metadata": {
        "id": "Bqf8sKkbmSVf"
      },
      "execution_count": null,
      "outputs": []
    },
    {
      "cell_type": "code",
      "source": [
        "(train_X,train_Y),(test_X,test_Y)= keras.datasets.mnist.load_data()"
      ],
      "metadata": {
        "id": "TyqkbxkjmlJv"
      },
      "execution_count": null,
      "outputs": []
    },
    {
      "cell_type": "code",
      "source": [
        "print(train_X.shape,test_X.shape, train_Y.shape,  test_Y.shape)  #data store as batchsize, width, height where as in pytoruch it store as witdth, height,batchize"
      ],
      "metadata": {
        "colab": {
          "base_uri": "https://localhost:8080/"
        },
        "id": "y-6sf3B2nM_Q",
        "outputId": "942908d8-8d7c-44d2-82ce-941f9f51f502"
      },
      "execution_count": null,
      "outputs": [
        {
          "output_type": "stream",
          "name": "stdout",
          "text": [
            "(60000, 28, 28) (10000, 28, 28) (60000,) (10000,)\n"
          ]
        }
      ]
    },
    {
      "cell_type": "code",
      "source": [
        "example = train_X[5]\n",
        "print(train_Y)\n",
        "plt.imshow(example, cmap='gray')\n",
        "print(example.shape)"
      ],
      "metadata": {
        "colab": {
          "base_uri": "https://localhost:8080/",
          "height": 467
        },
        "id": "-2mCWZZLneME",
        "outputId": "5369030f-7db1-4a3e-a4fd-4b0e5f00543a"
      },
      "execution_count": null,
      "outputs": [
        {
          "output_type": "stream",
          "name": "stdout",
          "text": [
            "[5 0 4 ... 5 6 8]\n",
            "(28, 28)\n"
          ]
        },
        {
          "output_type": "display_data",
          "data": {
            "text/plain": [
              "<Figure size 640x480 with 1 Axes>"
            ],
            "image/png": "[encoded data removed]"
          },
          "metadata": {}
        }
      ]
    },
    {
      "cell_type": "code",
      "source": [
        "print(example.max(),example.min() )"
      ],
      "metadata": {
        "colab": {
          "base_uri": "https://localhost:8080/"
        },
        "id": "6agpQ2_PoLMs",
        "outputId": "b9b334db-9d9f-4d65-942d-a044874c084d"
      },
      "execution_count": null,
      "outputs": [
        {
          "output_type": "stream",
          "name": "stdout",
          "text": [
            "255 0\n"
          ]
        }
      ]
    },
    {
      "cell_type": "code",
      "source": [
        "train_X =train_X/255\n",
        "text_X = test_X/255"
      ],
      "metadata": {
        "id": "8atT7euupMx4"
      },
      "execution_count": null,
      "outputs": []
    },
    {
      "cell_type": "code",
      "source": [
        "train_X = np.expand_dims(train_X,-1)\n",
        "test_X = np.expand_dims(test_X,-1)"
      ],
      "metadata": {
        "id": "W3GXBwaTrU7o"
      },
      "execution_count": null,
      "outputs": []
    },
    {
      "cell_type": "code",
      "source": [
        "print(train_X.shape)"
      ],
      "metadata": {
        "colab": {
          "base_uri": "https://localhost:8080/"
        },
        "id": "K-uoawvCtJ7i",
        "outputId": "d5000816-b076-4c7d-f04f-d900a2db2734"
      },
      "execution_count": null,
      "outputs": [
        {
          "output_type": "stream",
          "name": "stdout",
          "text": [
            "(60000, 28, 28, 1)\n"
          ]
        }
      ]
    },
    {
      "cell_type": "code",
      "source": [
        "train_Y[0]"
      ],
      "metadata": {
        "colab": {
          "base_uri": "https://localhost:8080/"
        },
        "id": "1zuJpRNftYu0",
        "outputId": "755caca7-bd69-4e52-bb75-b501280f8df8"
      },
      "execution_count": null,
      "outputs": [
        {
          "output_type": "execute_result",
          "data": {
            "text/plain": [
              "5"
            ]
          },
          "metadata": {},
          "execution_count": 11
        }
      ]
    },
    {
      "cell_type": "code",
      "source": [
        "train_Y= keras.utils.to_categorical(train_Y) #utlise found the no. of unique wale\n",
        "test_Y= keras.utils.to_categorical(test_Y)"
      ],
      "metadata": {
        "id": "yWo0abJGtcdR"
      },
      "execution_count": null,
      "outputs": []
    },
    {
      "cell_type": "code",
      "source": [
        "train_Y[0]"
      ],
      "metadata": {
        "colab": {
          "base_uri": "https://localhost:8080/"
        },
        "id": "fKUe9BA0tq2a",
        "outputId": "2de068ef-e878-4368-b85b-49e0b20424b5"
      },
      "execution_count": null,
      "outputs": [
        {
          "output_type": "execute_result",
          "data": {
            "text/plain": [
              "array([0., 0., 0., 0., 0., 1., 0., 0., 0., 0.], dtype=float32)"
            ]
          },
          "metadata": {},
          "execution_count": 13
        }
      ]
    },
    {
      "cell_type": "code",
      "source": [
        "img_shape = (28,28,1)"
      ],
      "metadata": {
        "id": "aQrq7bontuSq"
      },
      "execution_count": null,
      "outputs": []
    },
    {
      "cell_type": "code",
      "source": [
        "model = keras.Sequential([\n",
        "    keras.Input(shape=img_shape),\n",
        "    keras.layers.Conv2D(66, kernel_size=(3,3), strides = (2,2), padding ='valid', activation='relu' ),\n",
        "    keras.layers.MaxPool2D(pool_size = (3,3),strides = (1,1), padding = 'same' ),\n",
        "    keras.layers.Conv2D(120, kernel_size=(3,3), strides = (2,2), padding ='valid', activation='relu' ),\n",
        "    keras.layers.MaxPool2D(pool_size = (3,3),strides = (1,1), padding = 'same' ),\n",
        "    keras.layers.Conv2D(240, kernel_size=(3,3), strides = (2,2), padding ='valid', activation='relu' ),\n",
        "    keras.layers.MaxPool2D(pool_size = (3,3),strides = (1,1), padding = 'same' ),\n",
        "    keras.layers.Flatten(),\n",
        "    keras.layers.Dense(500, activation = 'relu'),\n",
        "    keras.layers.Dense (num_class, activation='softmax')\n",
        "\n",
        "])"
      ],
      "metadata": {
        "id": "6fNSvpGOuKGp"
      },
      "execution_count": null,
      "outputs": []
    },
    {
      "cell_type": "code",
      "source": [
        "model.summary()"
      ],
      "metadata": {
        "colab": {
          "base_uri": "https://localhost:8080/"
        },
        "id": "gaybgcks1mfo",
        "outputId": "093db1b4-a917-42a9-de0b-0b9f5fd39536"
      },
      "execution_count": null,
      "outputs": [
        {
          "output_type": "stream",
          "name": "stdout",
          "text": [
            "Model: \"sequential\"\n",
            "_________________________________________________________________\n",
            " Layer (type)                Output Shape              Param #   \n",
            "=================================================================\n",
            " conv2d (Conv2D)             (None, 13, 13, 66)        660       \n",
            "                                                                 \n",
            " max_pooling2d (MaxPooling2  (None, 13, 13, 66)        0         \n",
            " D)                                                              \n",
            "                                                                 \n",
            " conv2d_1 (Conv2D)           (None, 6, 6, 120)         71400     \n",
            "                                                                 \n",
            " max_pooling2d_1 (MaxPoolin  (None, 6, 6, 120)         0         \n",
            " g2D)                                                            \n",
            "                                                                 \n",
            " conv2d_2 (Conv2D)           (None, 2, 2, 240)         259440    \n",
            "                                                                 \n",
            " max_pooling2d_2 (MaxPoolin  (None, 2, 2, 240)         0         \n",
            " g2D)                                                            \n",
            "                                                                 \n",
            " flatten (Flatten)           (None, 960)               0         \n",
            "                                                                 \n",
            " dense (Dense)               (None, 500)               480500    \n",
            "                                                                 \n",
            " dense_1 (Dense)             (None, 10)                5010      \n",
            "                                                                 \n",
            "=================================================================\n",
            "Total params: 817010 (3.12 MB)\n",
            "Trainable params: 817010 (3.12 MB)\n",
            "Non-trainable params: 0 (0.00 Byte)\n",
            "_________________________________________________________________\n"
          ]
        }
      ]
    },
    {
      "cell_type": "code",
      "source": [
        "model.compile(optimizer='adam', loss=tf.keras.losses.CategoricalCrossentropy(), metrics=[tf.keras.metrics.CategoricalAccuracy()])\n",
        "history = model.fit(train_X, train_Y, batch_size=100, epochs=10, validation_data=(test_X, test_Y))\n"
      ],
      "metadata": {
        "id": "aQfW6YCx7VPB",
        "colab": {
          "base_uri": "https://localhost:8080/"
        },
        "outputId": "6b2108ef-bd27-4de0-b5da-b540d69157a4"
      },
      "execution_count": null,
      "outputs": [
        {
          "output_type": "stream",
          "name": "stdout",
          "text": [
            "Epoch 1/10\n",
            "600/600 [==============================] - 100s 164ms/step - loss: 0.2518 - categorical_accuracy: 0.9180 - val_loss: 12.2367 - val_categorical_accuracy: 0.9769\n",
            "Epoch 2/10\n",
            "600/600 [==============================] - 96s 161ms/step - loss: 0.0613 - categorical_accuracy: 0.9810 - val_loss: 15.3689 - val_categorical_accuracy: 0.9714\n",
            "Epoch 3/10\n",
            "600/600 [==============================] - 101s 168ms/step - loss: 0.0434 - categorical_accuracy: 0.9863 - val_loss: 21.1397 - val_categorical_accuracy: 0.9647\n",
            "Epoch 4/10\n",
            "600/600 [==============================] - 95s 159ms/step - loss: 0.0344 - categorical_accuracy: 0.9889 - val_loss: 38.9063 - val_categorical_accuracy: 0.9412\n",
            "Epoch 5/10\n",
            "600/600 [==============================] - 94s 157ms/step - loss: 0.0293 - categorical_accuracy: 0.9904 - val_loss: 106.8956 - val_categorical_accuracy: 0.8578\n",
            "Epoch 6/10\n",
            "600/600 [==============================] - 96s 160ms/step - loss: 0.0238 - categorical_accuracy: 0.9923 - val_loss: 248.2449 - val_categorical_accuracy: 0.7925\n",
            "Epoch 7/10\n",
            "600/600 [==============================] - 95s 158ms/step - loss: 0.0218 - categorical_accuracy: 0.9929 - val_loss: 62.9247 - val_categorical_accuracy: 0.9156\n",
            "Epoch 8/10\n",
            "600/600 [==============================] - 90s 151ms/step - loss: 0.0220 - categorical_accuracy: 0.9927 - val_loss: 148.8962 - val_categorical_accuracy: 0.8251\n",
            "Epoch 9/10\n",
            "600/600 [==============================] - 92s 153ms/step - loss: 0.0172 - categorical_accuracy: 0.9944 - val_loss: 258.5142 - val_categorical_accuracy: 0.8041\n",
            "Epoch 10/10\n",
            "600/600 [==============================] - 97s 161ms/step - loss: 0.0144 - categorical_accuracy: 0.9951 - val_loss: 192.3109 - val_categorical_accuracy: 0.8447\n"
          ]
        }
      ]
    },
    {
      "cell_type": "code",
      "source": [
        "plt.plot(history.history['loss'])\n",
        "plt.plot(history.history['val_loss'])"
      ],
      "metadata": {
        "colab": {
          "base_uri": "https://localhost:8080/",
          "height": 448
        },
        "id": "N2_SNZWB2IIm",
        "outputId": "c854de6d-c819-4530-b2bb-59a2356bf5e9"
      },
      "execution_count": null,
      "outputs": [
        {
          "output_type": "execute_result",
          "data": {
            "text/plain": [
              "[<matplotlib.lines.Line2D at 0x7b37627a10f0>]"
            ]
          },
          "metadata": {},
          "execution_count": 25
        },
        {
          "output_type": "display_data",
          "data": {
            "text/plain": [
              "<Figure size 640x480 with 1 Axes>"
            ],
            "image/png": "[encoded data removed]"
          },
          "metadata": {}
        }
      ]
    },
    {
      "cell_type": "code",
      "source": [
        "model.evaluate(test_X, test_Y)"
      ],
      "metadata": {
        "colab": {
          "base_uri": "https://localhost:8080/"
        },
        "id": "fRKpGNF84LGP",
        "outputId": "a51a35c7-1dbb-43f1-8605-34dd56732be1"
      },
      "execution_count": null,
      "outputs": [
        {
          "output_type": "stream",
          "name": "stdout",
          "text": [
            "313/313 [==============================] - 4s 14ms/step - loss: 192.3109 - categorical_accuracy: 0.8447\n"
          ]
        },
        {
          "output_type": "execute_result",
          "data": {
            "text/plain": [
              "[192.31094360351562, 0.8446999788284302]"
            ]
          },
          "metadata": {},
          "execution_count": 24
        }
      ]
    },
    {
      "cell_type": "code",
      "source": [
        "plt.plot(history.history['loss'])\n",
        "plt.plot(history.history['val_loss'])"
      ],
      "metadata": {
        "colab": {
          "base_uri": "https://localhost:8080/",
          "height": 448
        },
        "id": "cYhQx6Dv4Qd9",
        "outputId": "2310167f-9de8-4ca2-a6b0-5cf0c5ffeaea"
      },
      "execution_count": null,
      "outputs": [
        {
          "output_type": "execute_result",
          "data": {
            "text/plain": [
              "[<matplotlib.lines.Line2D at 0x7b37627e3a30>]"
            ]
          },
          "metadata": {},
          "execution_count": 26
        },
        {
          "output_type": "display_data",
          "data": {
            "text/plain": [
              "<Figure size 640x480 with 1 Axes>"
            ],
            "image/png": "[encoded data removed]"
          },
          "metadata": {}
        }
      ]
    },
    {
      "cell_type": "code",
      "source": [
        "example = test_X[666]\n",
        "print(test_Y[666])\n",
        "plt.imshow(example, cmap='gray')\n",
        "print(example.shape)\n",
        "example = np.expand_dims(example,0)\n",
        "print(example.shape)\n",
        "pred=model.predict(example)\n",
        "print(pred,np.argmax(pred))"
      ],
      "metadata": {
        "colab": {
          "base_uri": "https://localhost:8080/",
          "height": 522
        },
        "id": "r2ZoJY_CfCIg",
        "outputId": "2abb6e3c-f0b2-4580-ea01-aa304b3dd071"
      },
      "execution_count": null,
      "outputs": [
        {
          "output_type": "stream",
          "name": "stdout",
          "text": [
            "[0. 0. 0. 0. 0. 0. 0. 1. 0. 0.]\n",
            "(28, 28, 1)\n",
            "(1, 28, 28, 1)\n",
            "1/1 [==============================] - 0s 124ms/step\n",
            "[[0. 0. 0. 0. 0. 0. 0. 1. 0. 0.]] 7\n"
          ]
        },
        {
          "output_type": "display_data",
          "data": {
            "text/plain": [
              "<Figure size 640x480 with 1 Axes>"
            ],
            "image/png": "[encoded data removed]"
          },
          "metadata": {}
        }
      ]
    },
    {
      "cell_type": "code",
      "source": [],
      "metadata": {
        "id": "OtmBoCl15BNu"
      },
      "execution_count": null,
      "outputs": []
    }
  ]
}